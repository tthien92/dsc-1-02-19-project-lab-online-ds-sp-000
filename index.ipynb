{
 "cells": [
  {
   "cell_type": "markdown",
   "metadata": {},
   "source": [
    "## Project: Develop a Basic calculator program using Python\n",
    "\n",
    "## Introduction\n",
    "We've introduced a lot of new content in this section. Here's a chance to get some practice with your newly found skills in Python by building a calculator.\n",
    "\n",
    "## Objectives\n",
    "You will be able to:\n",
    "* Show mastery of the content covered in this section including:\n",
    "        1. Data types \n",
    "        2. Iteration \n",
    "        3. Conditionals \n",
    "        4. Functions \n",
    "        5. User I/O. "
   ]
  },
  {
   "cell_type": "markdown",
   "metadata": {},
   "source": [
    "### The problem\n",
    ">**Create a simple calculator which can perform basic arithmetic operations like addition, subtraction, multiplication or division depending upon the user input**.\n",
    "\n",
    "### Approach \n",
    "\n",
    "* User choose the desired operation. Options 1, 2, 3, 4 are valid options for operations.  \n",
    "* Two numbers are taken and an `if…elif…else` branching is used to execute a particular section.\n",
    "\n",
    "* Using functions `add()`, `subtract()`, `multiply()` and `divide()` evaluate respective operations.\n",
    "\n",
    "* The code should handle exceptions and must return **\"invalid input*** when an unexpected character is given in the input (anything other than 1 - 4)."
   ]
  },
  {
   "cell_type": "markdown",
   "metadata": {},
   "source": [
    "### Example Interface\n",
    "Here is the interface you are expected to build. Don't worry if it is not 100% exactly as what is shown. Focus more on the getting the logic correct at this stage. \n",
    "\n",
    "```\n",
    "Please select an operation:\n",
    "1. Add\n",
    "2. Subtract\n",
    "3. Multiply\n",
    "4. Divide\n",
    "\n",
    "Select operations form 1, 2, 3, 4 : 1\n",
    "Enter first number : 20\n",
    "Enter second number : 13\n",
    "20 + 13 = 33\n",
    "```"
   ]
  },
  {
   "cell_type": "markdown",
   "metadata": {},
   "source": [
    "### Creating Arithmatic Functions\n",
    "\n",
    "We shall create four functions, one for each arithmatic operation which will perform the required operation and resturn the resulting value as shown below:"
   ]
  },
  {
   "cell_type": "code",
   "execution_count": 1,
   "metadata": {},
   "outputs": [],
   "source": [
    "# Function to add two numbers \n",
    "def add(num1, num2):\n",
    "    summation = num1 + num2\n",
    "    return summation"
   ]
  },
  {
   "cell_type": "code",
   "execution_count": 50,
   "metadata": {},
   "outputs": [],
   "source": [
    "# Function to subtract two numbers \n",
    "def subtract(num1, num2):\n",
    "    summation = num1 - num2\n",
    "    return summation"
   ]
  },
  {
   "cell_type": "code",
   "execution_count": 3,
   "metadata": {},
   "outputs": [],
   "source": [
    "# Function to multiply two numbers\n",
    "def multiply(num1, num2):\n",
    "    product = num1 * num2 \n",
    "    return product"
   ]
  },
  {
   "cell_type": "code",
   "execution_count": 4,
   "metadata": {},
   "outputs": [],
   "source": [
    "# Function to divide two numbers\n",
    "def divide(num1, num2):\n",
    "    answer = num1/num2\n",
    "    return answer"
   ]
  },
  {
   "cell_type": "markdown",
   "metadata": {},
   "source": [
    "### Create a Command-line User Interface\n",
    "We shall now write the main program body to take user input and call the relevent function"
   ]
  },
  {
   "cell_type": "code",
   "execution_count": 28,
   "metadata": {},
   "outputs": [
    {
     "name": "stdout",
     "output_type": "stream",
     "text": [
      "Let's talk about Thien.\n"
     ]
    }
   ],
   "source": [
    "my_name = 'Thien'\n",
    "print (\"Let's talk about %s.\" % my_name)\n"
   ]
  },
  {
   "cell_type": "code",
   "execution_count": 45,
   "metadata": {},
   "outputs": [
    {
     "data": {
      "text/plain": [
       "int"
      ]
     },
     "execution_count": 45,
     "metadata": {},
     "output_type": "execute_result"
    }
   ],
   "source": [
    "first = 1\n",
    "second =2\n",
    "#print('%d + %d = %d' % (first, second, add(first,second)))\n",
    "type(add(first, second))"
   ]
  },
  {
   "cell_type": "code",
   "execution_count": 47,
   "metadata": {},
   "outputs": [
    {
     "name": "stdout",
     "output_type": "stream",
     "text": [
      "Please select an operation - \n",
      " 1. Add \n",
      " 2. Subtract \n",
      " 3. Multiply \n",
      " 4. Divide\n",
      "Select operation number: 3\n",
      "Enter first number: 6\n",
      "Enter second number: 9\n",
      "6 * 9 = 54\n"
     ]
    }
   ],
   "source": [
    "# Print user menu \n",
    "print('Please select an operation - \\n 1. Add \\n 2. Subtract \\n 3. Multiply \\n 4. Divide')\n",
    "\n",
    "# Take input from the user for operation , followed by numbers. \n",
    "selection= int(input(\"Select operation number: \"))\n",
    "\n",
    "first_num = int(input('Enter first number: '))\n",
    "second_num = int(input('Enter second number: '))\n",
    "\n",
    "if selection == 1:\n",
    "    print('%s + %s = %d' % (first_num, second_num, add(first_num,second_num)))\n",
    "elif selection == 2:\n",
    "    print('%d - %d = %d' % (first_num, second_num, subtract(first_num,second_num)))\n",
    "elif selection == 3:\n",
    "    print('%d * %d = %d' % (first_num, second_num, multiply(first_num,second_num)))\n",
    "elif selection == 4:\n",
    "    print('%d / %d = %d' % (first_num, second_num, divide(first_num,second_num)))\n",
    "else:\n",
    "    print(\"Invalid input\")\n",
    "\n",
    "\n",
    "# Expected output    \n",
    "\n",
    "# Please select operation -\n",
    "# 1. Add\n",
    "# 2. Subtract\n",
    "# 3. Multiply\n",
    "# 4. Divide\n",
    "\n",
    "# Select operations form 1, 2, 3, 4 :1\n",
    "# Enter first number: 2\n",
    "# Enter second number: 3\n",
    "# 2 + 3 = 5"
   ]
  },
  {
   "cell_type": "markdown",
   "metadata": {},
   "source": [
    "# Bring in the While loop\n",
    "\n",
    "We can see how the logic set by using if-else statements, along with functions can be used to control the flow of the program in an easy way. Let's add more functionality to our calculator as below:\n",
    "\n",
    ">Lets try to make it a bit more interesting by introducing the behaviour of a real calculator so our users can choose to either continue with calculationa OR exit the system. Users gets this functionality by pressing `y` for yes and `n` for no towards continuation.\n",
    "\n",
    "### Example Interface\n",
    "\n",
    "**Notice `continue: y/n` at the bottom of interface.**\n",
    "\n",
    "```\n",
    "Please select an operation:\n",
    "1. Add\n",
    "2. Subtract\n",
    "3. Multiply\n",
    "4. Divide\n",
    "\n",
    "Select operations form 1, 2, 3, 4 : 1\n",
    "Enter first number : 20\n",
    "Enter second number : 13\n",
    "20 + 13 = 33\n",
    "\n",
    "Continue: y/n\n",
    "```\n",
    "\n",
    "Let's work towards implementing iteration into the equation and enclose above I/O interface inside a while loops."
   ]
  },
  {
   "cell_type": "code",
   "execution_count": 51,
   "metadata": {},
   "outputs": [
    {
     "name": "stdout",
     "output_type": "stream",
     "text": [
      "Please select an operation - \n",
      " 1. Add \n",
      " 2. Subtract \n",
      " 3. Multiply \n",
      " 4. Divide\n",
      "Select operation number: 2\n",
      "Enter first number: 5\n",
      "Enter second number: 3\n",
      "5 - 3 = 2\n",
      "Continue? Y/NN\n"
     ]
    }
   ],
   "source": [
    "# Initialize the code with cont (continue) flag set to yes (y)\n",
    "cont = 'Y'\n",
    "\n",
    "while cont is 'Y':\n",
    "    print('Please select an operation - \\n 1. Add \\n 2. Subtract \\n 3. Multiply \\n 4. Divide')\n",
    "\n",
    "# Take input from the user for operation , followed by numbers. \n",
    "    selection= int(input(\"Select operation number: \"))\n",
    "\n",
    "    first_num = int(input('Enter first number: '))\n",
    "    second_num = int(input('Enter second number: '))\n",
    "\n",
    "    if selection == 1:\n",
    "        print('%s + %s = %d' % (first_num, second_num, add(first_num,second_num)))\n",
    "    elif selection == 2:\n",
    "        print('%d - %d = %d' % (first_num, second_num, subtract(first_num,second_num)))\n",
    "    elif selection == 3:\n",
    "        print('%d * %d = %d' % (first_num, second_num, multiply(first_num,second_num)))\n",
    "    elif selection == 4:\n",
    "        print('%d / %d = %d' % (first_num, second_num, divide(first_num,second_num)))\n",
    "    else:\n",
    "        print(\"Invalid input\")\n",
    "        \n",
    "    cont = input('Continue? Y/N')\n",
    "# Check for user input after each iteration of the code in a while loop\n",
    "\n",
    "\n",
    "        # Enclose the I/O  code block inside the while loop\n",
    "        \n",
    "\n",
    "\n",
    "#Expected output format\n",
    "\n",
    "# Select operations form 1, 2, 3, 4 :4\n",
    "# Enter first number: 5\n",
    "# Enter second number: 4\n",
    "# Press d for division and m for modulo operatorm\n",
    "# 5 / 4 = 1\n",
    "# Continue? y/n:y\n",
    "# Select operations form 1, 2, 3, 4 :4\n",
    "# Enter first number: 5\n",
    "# Enter second number: 4\n",
    "# Press d for division and m for modulo operatord\n",
    "# 5 / 4 = 1.25"
   ]
  },
  {
   "cell_type": "markdown",
   "metadata": {},
   "source": [
    "## Level up (Optional)\n",
    "\n",
    "The while loop shown above allows the iteration through the code until a specific input from user i.e. `n` is noticed. Let's add some more functionality to this code by asking users about the type of division they are interested in, and this could be either normal division (as before) or a modulo operator (shows remainder).\n",
    "\n",
    ">Change the code in the division function so that if a user selects division operation, the code should ask the user if he/she wants a normal division `/` (int) or `//` (float) , or a module `%` operator which only returns the remainder of a division. The program should return an exception for any other inputs. "
   ]
  },
  {
   "cell_type": "code",
   "execution_count": 52,
   "metadata": {},
   "outputs": [
    {
     "ename": "SyntaxError",
     "evalue": "invalid syntax (<ipython-input-52-5f6e5990fad0>, line 3)",
     "output_type": "error",
     "traceback": [
      "\u001b[0;36m  File \u001b[0;32m\"<ipython-input-52-5f6e5990fad0>\"\u001b[0;36m, line \u001b[0;32m3\u001b[0m\n\u001b[0;31m    if version = 'int':\u001b[0m\n\u001b[0m               ^\u001b[0m\n\u001b[0;31mSyntaxError\u001b[0m\u001b[0;31m:\u001b[0m invalid syntax\n"
     ]
    }
   ],
   "source": [
    "def divide_v2(num1, num2):\n",
    "    version = input('Which division would you like to do, int, float, or module?')\n",
    "    if version == 'int':\n",
    "        return int(num1/num2)\n",
    "    elif version =='float':\n",
    "        return float(num1/num2)\n",
    "    elif version == 'module':\n",
    "        return num1%num2\n",
    "    else:\n",
    "        print('That is not an option')\n",
    "    \n"
   ]
  },
  {
   "cell_type": "markdown",
   "metadata": {},
   "source": [
    "### Summary\n",
    "\n",
    "In this lab we saw how loops and conditions can be used to control the logic of a program execution based on user input. We started with building a simple calculator and incrementaly added more functionality to it by adding loops for iteration and further conditions allowing different type of calculations. We also practiced User I/O by taking choices from the users and dealing with exceptions (unexpected input). "
   ]
  }
 ],
 "metadata": {
  "kernelspec": {
   "display_name": "Python 3",
   "language": "python",
   "name": "python3"
  },
  "language_info": {
   "codemirror_mode": {
    "name": "ipython",
    "version": 3
   },
   "file_extension": ".py",
   "mimetype": "text/x-python",
   "name": "python",
   "nbconvert_exporter": "python",
   "pygments_lexer": "ipython3",
   "version": "3.6.4"
  }
 },
 "nbformat": 4,
 "nbformat_minor": 2
}
